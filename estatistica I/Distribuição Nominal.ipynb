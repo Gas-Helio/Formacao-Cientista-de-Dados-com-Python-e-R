{
 "cells": [
  {
   "cell_type": "markdown",
   "metadata": {},
   "source": [
    "### Parte I"
   ]
  },
  {
   "cell_type": "code",
   "execution_count": 1,
   "metadata": {},
   "outputs": [],
   "source": [
    "from scipy.stats import norm"
   ]
  },
  {
   "cell_type": "code",
   "execution_count": 2,
   "metadata": {},
   "outputs": [
    {
     "data": {
      "text/plain": [
       "0.15865525393145707"
      ]
     },
     "execution_count": 2,
     "metadata": {},
     "output_type": "execute_result"
    }
   ],
   "source": [
    "# Conjunto de objetos em uma cesta, a média é 8 e o desvio padrão é 2\n",
    "# Qual a probabilidade de tirar um objeto que peso é menor que 6 quilos?\n",
    "norm.cdf(6, 8, 2)"
   ]
  },
  {
   "cell_type": "code",
   "execution_count": 4,
   "metadata": {},
   "outputs": [
    {
     "data": {
      "text/plain": [
       "0.8413447460685429"
      ]
     },
     "execution_count": 4,
     "metadata": {},
     "output_type": "execute_result"
    }
   ],
   "source": [
    "# Qual a probabilidade de tirar um objeto que o peso á maior que 6 quilos?\n",
    "1 - norm.cdf(6, 8, 2)"
   ]
  },
  {
   "cell_type": "code",
   "execution_count": 5,
   "metadata": {},
   "outputs": [
    {
     "data": {
      "text/plain": [
       "0.8413447460685429"
      ]
     },
     "execution_count": 5,
     "metadata": {},
     "output_type": "execute_result"
    }
   ],
   "source": [
    "norm.sf(6,8,2)"
   ]
  },
  {
   "cell_type": "code",
   "execution_count": 6,
   "metadata": {},
   "outputs": [
    {
     "data": {
      "text/plain": [
       "0.31731050786291415"
      ]
     },
     "execution_count": 6,
     "metadata": {},
     "output_type": "execute_result"
    }
   ],
   "source": [
    "# Qual a probabilidade de tirar um objeto que o peso é menor que 6 ou maior \n",
    "# que 10 quilos?\n",
    "norm.cdf(6, 8, 2) + norm.sf(10, 8, 2)"
   ]
  },
  {
   "cell_type": "code",
   "execution_count": 12,
   "metadata": {},
   "outputs": [
    {
     "name": "stdout",
     "output_type": "stream",
     "text": [
      "0.3413447460685429\n"
     ]
    }
   ],
   "source": [
    "# Qual a probabilidade de tirar um objeto que o peso é menor que 10 e maior\n",
    "# que 8 quilos?\n",
    "print(norm.cdf(10, 8, 2) - norm.cdf(8, 8, 2))"
   ]
  },
  {
   "cell_type": "markdown",
   "metadata": {},
   "source": [
    "### Parte II"
   ]
  },
  {
   "cell_type": "code",
   "execution_count": 20,
   "metadata": {},
   "outputs": [],
   "source": [
    "from scipy import stats\n",
    "import matplotlib.pyplot as plt"
   ]
  },
  {
   "cell_type": "code",
   "execution_count": 17,
   "metadata": {},
   "outputs": [],
   "source": [
    "dados = stats.norm.rvs(size=100)"
   ]
  },
  {
   "cell_type": "code",
   "execution_count": 18,
   "metadata": {},
   "outputs": [
    {
     "data": {
      "text/plain": [
       "array([ 0.04732965, -0.25988268, -0.93663411,  0.41652361,  1.16724694,\n",
       "        0.08350392,  0.27268731, -1.59788812, -0.54817903,  0.71546485,\n",
       "       -0.48238538,  0.73285093, -0.82804571,  0.25283416,  0.80449577,\n",
       "       -0.05531644,  0.42179685,  0.06931063, -0.93375737,  0.03156727,\n",
       "        2.05848306, -1.54135153,  0.74017377,  1.56988104,  0.22357645,\n",
       "       -0.37771801, -0.23601396, -0.96288482,  1.12169284,  0.22826083,\n",
       "       -0.59293887,  2.06368413,  1.23916743, -1.22285772,  1.27133968,\n",
       "       -0.12927809,  0.39099586,  0.35926159,  1.07405747, -0.74341134,\n",
       "       -0.24522356,  0.77389547, -0.06163454,  1.14560284,  0.38828597,\n",
       "        2.04216963,  0.88398076, -0.93067679,  0.79037959,  0.59258758,\n",
       "        0.59730063,  0.01814609,  0.85708886,  0.03111518,  1.39833278,\n",
       "        0.84388875,  0.12889411,  0.02058213, -1.60370035,  0.73342817,\n",
       "       -1.02836113,  0.65614279, -0.49877406,  0.71614983, -0.71837197,\n",
       "       -1.34838774,  0.71180293,  0.96793112,  0.87048474, -0.23988148,\n",
       "        1.08621525,  1.55704332,  0.41300924, -0.46315002,  1.25040852,\n",
       "       -0.06722405, -1.51810467,  2.01245376, -1.7666693 , -0.7297977 ,\n",
       "       -0.78220272, -0.22359162,  0.97474623,  2.21084593, -0.61002659,\n",
       "        0.95224673, -0.40351819,  0.5432745 , -0.33614422, -0.53339627,\n",
       "        0.7286341 ,  0.02297894,  0.99151591, -0.76762667, -1.52870796,\n",
       "       -0.01918038, -1.26154592,  0.20976418, -0.82674445, -0.93190111])"
      ]
     },
     "execution_count": 18,
     "metadata": {},
     "output_type": "execute_result"
    }
   ],
   "source": [
    "dados"
   ]
  },
  {
   "cell_type": "code",
   "execution_count": 23,
   "metadata": {},
   "outputs": [
    {
     "data": {
      "image/png": "[encoded data removed]",
      "text/plain": [
       "<Figure size 432x288 with 1 Axes>"
      ]
     },
     "metadata": {
      "needs_background": "light"
     },
     "output_type": "display_data"
    }
   ],
   "source": [
    "stats.probplot(dados, plot=plt);"
   ]
  },
  {
   "cell_type": "code",
   "execution_count": 24,
   "metadata": {},
   "outputs": [
    {
     "data": {
      "text/plain": [
       "(0.9851608276367188, 0.3261650502681732)"
      ]
     },
     "execution_count": 24,
     "metadata": {},
     "output_type": "execute_result"
    }
   ],
   "source": [
    "stats.shapiro(dados)"
   ]
  },
  {
   "cell_type": "code",
   "execution_count": null,
   "metadata": {},
   "outputs": [],
   "source": []
  }
 ],
 "metadata": {
  "kernelspec": {
   "display_name": "Python 3",
   "language": "python",
   "name": "python3"
  },
  "language_info": {
   "codemirror_mode": {
    "name": "ipython",
    "version": 3
   },
   "file_extension": ".py",
   "mimetype": "text/x-python",
   "name": "python",
   "nbconvert_exporter": "python",
   "pygments_lexer": "ipython3",
   "version": "3.7.6"
  }
 },
 "nbformat": 4,
 "nbformat_minor": 4
}
